{
  "cells": [
    {
      "cell_type": "markdown",
      "metadata": {
        "id": "wkr3JWMxk9u2"
      },
      "source": [
        "# Cleaning Data"
      ]
    },
    {
      "cell_type": "code",
      "execution_count": 457,
      "metadata": {
        "id": "rOKk6gw2-Kbw"
      },
      "outputs": [],
      "source": [
        "import re\n",
        "import numpy\n",
        "import pandas\n",
        "import random"
      ]
    },
    {
      "cell_type": "markdown",
      "metadata": {
        "id": "rsPWakpbkXBn"
      },
      "source": [
        "### Clean training data"
      ]
    },
    {
      "cell_type": "code",
      "execution_count": 458,
      "metadata": {
        "id": "1b4oVA_kY7bn"
      },
      "outputs": [],
      "source": [
        "train_path = str(\"train_dirty.txt\")\n",
        "train_clean_path = str(\"test_dirty.csv\")\n",
        "\n",
        "dirty_lines = []\n",
        "clean_lines = []\n",
        "\n",
        "with open(train_path) as file:\n",
        "    for line in file.readlines():\n",
        "        line = re.sub(r\"  +\", '', line)\n",
        "        line = re.sub(r\"[\\n\\t]*\", '', line)\n",
        "        dirty_lines.append(line)\n",
        "        line = line.replace(\"\\\"\", \"\\'\")\n",
        "        line = line.replace(\"<Pros>\", \"\\\"\")\n",
        "        line = line.replace(\"<Cons>\", \"\\\"\")\n",
        "        line = line.replace(\"</Pros>\", \"\\\",1\")\n",
        "        line = line.replace(\"</Cons>\", \"\\\",0\")\n",
        "        clean_lines.append(line)\n",
        "\n",
        "with open(train_clean_path, 'w') as file:\n",
        "    for line in clean_lines:\n",
        "        file.write(line + '\\n')"
      ]
    },
    {
      "cell_type": "markdown",
      "metadata": {},
      "source": [
        "### Preview Line Changes"
      ]
    },
    {
      "cell_type": "code",
      "execution_count": 459,
      "metadata": {},
      "outputs": [
        {
          "name": "stdout",
          "output_type": "stream",
          "text": [
            "<Pros>Fast, sharp printing! Toner keeps going and going...easy to setup/use - attachments available</Pros>\n",
            " => \"Fast, sharp printing! Toner keeps going and going...easy to setup/use - attachments available\",1\n",
            "\n",
            "<Pros>Inexpensive, plenty of features for the money, good sound quality.</Pros>\n",
            " => \"Inexpensive, plenty of features for the money, good sound quality.\",1\n",
            "\n",
            "<Pros>Moveable display</Pros>\n",
            " => \"Moveable display\",1\n",
            "\n"
          ]
        }
      ],
      "source": [
        "for index in random.sample(range(len(clean_lines)), 3):\n",
        "    print(dirty_lines[index])\n",
        "    print(f\" => {clean_lines[index]}\\n\")"
      ]
    },
    {
      "cell_type": "markdown",
      "metadata": {
        "id": "bh36uIRSkapY"
      },
      "source": [
        "### Clean prediction data"
      ]
    },
    {
      "cell_type": "code",
      "execution_count": 460,
      "metadata": {
        "id": "ou8JGI6xYHTS"
      },
      "outputs": [],
      "source": [
        "predict_path = str(\"predict_dirty.txt\")\n",
        "predict_clean_path = str(\"predict_clean.csv\")\n",
        "\n",
        "dirty_lines = []\n",
        "clean_lines = []\n",
        "\n",
        "with open(predict_path, encoding='ISO-8859-1') as file:\n",
        "    for line in file.readlines():\n",
        "        line = re.sub(r\"  +\", '', line)\n",
        "        line = re.sub(r\"[\\n\\t]*\", '', line)\n",
        "        dirty_lines.append(line)\n",
        "        line = line.replace(\"\\\"\", \"\\'\")\n",
        "        line = line.replace(\"<Labs>\", \"\\\"\")\n",
        "        line = line.replace(\"</Labs>\", \"\\\",?\")\n",
        "        clean_lines.append(line)\n",
        "        # print(line)\n",
        "\n",
        "with open(predict_clean_path, 'w') as file:\n",
        "    for line in clean_lines:\n",
        "        file.write(line + '\\n')"
      ]
    },
    {
      "cell_type": "markdown",
      "metadata": {},
      "source": [
        "### Preview Line Changes"
      ]
    },
    {
      "cell_type": "code",
      "execution_count": 461,
      "metadata": {},
      "outputs": [
        {
          "name": "stdout",
          "output_type": "stream",
          "text": [
            "<Labs>Durability(trust me-I have a 2 yr old), Clarity, portability, fast charging time.</Labs>\n",
            " => \"Durability(trust me-I have a 2 yr old), Clarity, portability, fast charging time.\",?\n",
            "\n",
            "<Labs>Small, great sound quality, long battery life</Labs>\n",
            " => \"Small, great sound quality, long battery life\",?\n",
            "\n",
            "<Labs>Great buy for the features and picture quality!</Labs>\n",
            " => \"Great buy for the features and picture quality!\",?\n",
            "\n"
          ]
        }
      ],
      "source": [
        "for index in random.sample(range(len(clean_lines)), 3):\n",
        "    print(dirty_lines[index])\n",
        "    print(f\" => {clean_lines[index]}\\n\")"
      ]
    },
    {
      "cell_type": "markdown",
      "metadata": {
        "id": "URj_ywt5kdsQ"
      },
      "source": [
        "# Split Data"
      ]
    },
    {
      "cell_type": "markdown",
      "metadata": {},
      "source": [
        "### Split into Train, Validation, and Predict Sets"
      ]
    },
    {
      "cell_type": "code",
      "execution_count": 462,
      "metadata": {
        "colab": {
          "base_uri": "https://localhost:8080/"
        },
        "id": "Kos8AOMCa7Bi",
        "outputId": "c6ea1abf-e1b5-494b-920c-1b0a17fd1a6c"
      },
      "outputs": [
        {
          "name": "stdout",
          "output_type": "stream",
          "text": [
            "Train & Validation\n",
            "(1299, 2)\n",
            "(700, 2)\n",
            "Predictions\n",
            "(43874, 2)\n"
          ]
        }
      ],
      "source": [
        "validation_split = 0.65\n",
        "\n",
        "predictData = pandas.read_csv(predict_clean_path, encoding='unicode_escape')\n",
        "predictData.columns = [\"Text\", \"Pro/Con\"]\n",
        "\n",
        "inputData = pandas.read_csv(train_clean_path, encoding='unicode_escape')\n",
        "inputData.columns = [\"Text\", \"Pro/Con\"]\n",
        "\n",
        "trainData = inputData.sample(frac=validation_split)\n",
        "validationData = inputData.drop(trainData.index)\n",
        "\n",
        "print(\"Train & Validation\")\n",
        "print(trainData.shape)\n",
        "print(validationData.shape)\n",
        "print(\"Predictions\")\n",
        "print(predictData.shape)"
      ]
    },
    {
      "cell_type": "markdown",
      "metadata": {},
      "source": [
        "### Separate Text & Labels"
      ]
    },
    {
      "cell_type": "code",
      "execution_count": 463,
      "metadata": {},
      "outputs": [],
      "source": [
        "train_text = inputData['Text'].values.astype(str)\n",
        "train_label = inputData['Pro/Con'].values.astype(int)\n",
        "\n",
        "validation_text = validationData['Text'].values.astype(str)\n",
        "validation_label = validationData['Pro/Con'].values.astype(int)\n",
        "\n",
        "predict_text = predictData['Text'].values.astype(str)\n",
        "predict_label = predictData['Pro/Con'].values.astype(str)"
      ]
    },
    {
      "cell_type": "markdown",
      "metadata": {
        "id": "gBLWDi7GrqrM"
      },
      "source": [
        "# Tokenize Text"
      ]
    },
    {
      "cell_type": "markdown",
      "metadata": {
        "id": "hEb15xfntF0B"
      },
      "source": [
        "### w/ Tensorflow"
      ]
    },
    {
      "cell_type": "code",
      "execution_count": 464,
      "metadata": {},
      "outputs": [],
      "source": [
        "import tensorflow as tf\n",
        "import tensorflow.keras.preprocessing as tfpp"
      ]
    },
    {
      "cell_type": "code",
      "execution_count": 465,
      "metadata": {
        "id": "AHcEVJt-15ho"
      },
      "outputs": [],
      "source": [
        "vocab_size = 1024\n",
        "sequence_length = 64"
      ]
    },
    {
      "cell_type": "code",
      "execution_count": 466,
      "metadata": {
        "id": "GclqT_m32N9e"
      },
      "outputs": [],
      "source": [
        "tokenizer = tfpp.text.Tokenizer(\n",
        "    num_words=vocab_size,\n",
        "    oov_token='~misc~',\n",
        ")\n",
        "tokenizer.fit_on_texts(train_text)\n",
        "\n",
        "train_sequences = tokenizer.texts_to_sequences(train_text)\n",
        "train_padded = tfpp.sequence.pad_sequences(train_sequences, maxlen=sequence_length, truncating='post')\n",
        "\n",
        "validation_sequences = tokenizer.texts_to_sequences(validation_text)\n",
        "validation_padded = tfpp.sequence.pad_sequences(validation_sequences, maxlen=sequence_length, truncating='post')\n",
        "\n",
        "predict_sequences = tokenizer.texts_to_sequences(predict_text)\n",
        "predict_padded = tfpp.sequence.pad_sequences(predict_sequences, maxlen=sequence_length, truncating='post')"
      ]
    },
    {
      "cell_type": "markdown",
      "metadata": {},
      "source": [
        "# Learning Model"
      ]
    },
    {
      "cell_type": "markdown",
      "metadata": {},
      "source": [
        "## Parameters"
      ]
    },
    {
      "cell_type": "code",
      "execution_count": 467,
      "metadata": {},
      "outputs": [],
      "source": [
        "num_epochs = 250\n",
        "embedding_dim = 16\n",
        "learning_rate = 8.5e-5"
      ]
    },
    {
      "cell_type": "markdown",
      "metadata": {},
      "source": [
        "## Architecture & Training"
      ]
    },
    {
      "cell_type": "code",
      "execution_count": 468,
      "metadata": {
        "colab": {
          "base_uri": "https://localhost:8080/"
        },
        "id": "pHGC-XdEtR2L",
        "outputId": "3db7fb5c-4f20-4861-a234-237d7bbb2b6b"
      },
      "outputs": [],
      "source": [
        "model = tf.keras.Sequential([\n",
        "    tf.keras.layers.Embedding(vocab_size, embedding_dim, input_length=sequence_length),\n",
        "    tf.keras.layers.Bidirectional(tf.keras.layers.LSTM(16)),\n",
        "    tf.keras.layers.Dense(16, activation='relu'),\n",
        "    tf.keras.layers.Dense(16, activation='relu'),\n",
        "    tf.keras.layers.Dense(1, activation='sigmoid')\n",
        "])\n",
        "\n",
        "model.compile(\n",
        "    loss=tf.keras.losses.BinaryCrossentropy(),\n",
        "    optimizer=tf.keras.optimizers.Adam(learning_rate),\n",
        "    metrics=[tf.metrics.BinaryAccuracy(name=\"accuracy\")],\n",
        ")"
      ]
    },
    {
      "cell_type": "markdown",
      "metadata": {},
      "source": [
        "## Training"
      ]
    },
    {
      "cell_type": "code",
      "execution_count": 469,
      "metadata": {
        "colab": {
          "base_uri": "https://localhost:8080/",
          "height": 588
        },
        "id": "oAh32Bo4t2Rm",
        "outputId": "8a256c2a-ace7-4fba-e98e-66ceef831b79"
      },
      "outputs": [
        {
          "name": "stdout",
          "output_type": "stream",
          "text": [
            "Epoch 1/250\n",
            "125/125 [==============================] - 14s 51ms/step - loss: 0.6930 - accuracy: 0.4907 - val_loss: 0.6923 - val_accuracy: 0.4986\n",
            "Epoch 2/250\n",
            "125/125 [==============================] - 5s 36ms/step - loss: 0.6917 - accuracy: 0.4972 - val_loss: 0.6903 - val_accuracy: 0.5043\n",
            "Epoch 3/250\n",
            "125/125 [==============================] - 4s 36ms/step - loss: 0.6876 - accuracy: 0.5598 - val_loss: 0.6832 - val_accuracy: 0.5371\n",
            "Epoch 4/250\n",
            "125/125 [==============================] - 5s 37ms/step - loss: 0.6761 - accuracy: 0.5668 - val_loss: 0.6648 - val_accuracy: 0.6214\n",
            "Epoch 5/250\n",
            "125/125 [==============================] - 5s 37ms/step - loss: 0.6453 - accuracy: 0.6468 - val_loss: 0.6166 - val_accuracy: 0.6643\n",
            "Epoch 6/250\n",
            "125/125 [==============================] - 5s 38ms/step - loss: 0.5812 - accuracy: 0.7114 - val_loss: 0.5418 - val_accuracy: 0.8743\n",
            "Epoch 7/250\n",
            "125/125 [==============================] - 5s 36ms/step - loss: 0.5149 - accuracy: 0.8099 - val_loss: 0.4827 - val_accuracy: 0.8943\n",
            "Epoch 8/250\n",
            "125/125 [==============================] - 4s 36ms/step - loss: 0.4645 - accuracy: 0.8749 - val_loss: 0.4300 - val_accuracy: 0.9200\n",
            "Epoch 9/250\n",
            "125/125 [==============================] - 4s 36ms/step - loss: 0.4101 - accuracy: 0.9025 - val_loss: 0.3735 - val_accuracy: 0.9229\n",
            "Epoch 10/250\n",
            "125/125 [==============================] - 4s 36ms/step - loss: 0.3594 - accuracy: 0.9210 - val_loss: 0.3474 - val_accuracy: 0.8900\n",
            "Epoch 11/250\n",
            "125/125 [==============================] - 5s 36ms/step - loss: 0.3134 - accuracy: 0.9255 - val_loss: 0.2806 - val_accuracy: 0.9414\n",
            "Epoch 12/250\n",
            "125/125 [==============================] - 5s 37ms/step - loss: 0.2790 - accuracy: 0.9285 - val_loss: 0.2996 - val_accuracy: 0.8986\n",
            "Epoch 13/250\n",
            "125/125 [==============================] - 5s 37ms/step - loss: 0.2519 - accuracy: 0.9330 - val_loss: 0.2273 - val_accuracy: 0.9443\n",
            "Epoch 14/250\n",
            "125/125 [==============================] - 5s 37ms/step - loss: 0.2301 - accuracy: 0.9370 - val_loss: 0.2074 - val_accuracy: 0.9471\n",
            "Epoch 15/250\n",
            "125/125 [==============================] - 5s 38ms/step - loss: 0.2094 - accuracy: 0.9475 - val_loss: 0.1877 - val_accuracy: 0.9614\n",
            "Epoch 16/250\n",
            "125/125 [==============================] - 5s 38ms/step - loss: 0.1978 - accuracy: 0.9425 - val_loss: 0.1757 - val_accuracy: 0.9614\n",
            "Epoch 17/250\n",
            "125/125 [==============================] - 4s 36ms/step - loss: 0.1864 - accuracy: 0.9435 - val_loss: 0.1656 - val_accuracy: 0.9643\n",
            "Epoch 18/250\n",
            "125/125 [==============================] - 4s 36ms/step - loss: 0.1711 - accuracy: 0.9530 - val_loss: 0.1535 - val_accuracy: 0.9657\n",
            "Epoch 19/250\n",
            "125/125 [==============================] - 5s 36ms/step - loss: 0.1650 - accuracy: 0.9520 - val_loss: 0.1451 - val_accuracy: 0.9657\n",
            "Epoch 20/250\n",
            "125/125 [==============================] - 5s 36ms/step - loss: 0.1577 - accuracy: 0.9545 - val_loss: 0.1384 - val_accuracy: 0.9686\n",
            "Epoch 21/250\n",
            "125/125 [==============================] - 4s 36ms/step - loss: 0.1506 - accuracy: 0.9550 - val_loss: 0.1312 - val_accuracy: 0.9686\n",
            "Epoch 22/250\n",
            "125/125 [==============================] - 5s 36ms/step - loss: 0.1442 - accuracy: 0.9570 - val_loss: 0.1412 - val_accuracy: 0.9571\n",
            "Epoch 23/250\n",
            "125/125 [==============================] - 5s 38ms/step - loss: 0.1401 - accuracy: 0.9570 - val_loss: 0.1261 - val_accuracy: 0.9714\n",
            "Epoch 24/250\n",
            "125/125 [==============================] - 5s 36ms/step - loss: 0.1319 - accuracy: 0.9605 - val_loss: 0.1171 - val_accuracy: 0.9714\n",
            "Epoch 25/250\n",
            "125/125 [==============================] - 5s 36ms/step - loss: 0.1286 - accuracy: 0.9645 - val_loss: 0.1145 - val_accuracy: 0.9714\n",
            "Epoch 26/250\n",
            "125/125 [==============================] - 5s 36ms/step - loss: 0.1230 - accuracy: 0.9630 - val_loss: 0.1115 - val_accuracy: 0.9729\n",
            "Epoch 27/250\n",
            "125/125 [==============================] - 5s 36ms/step - loss: 0.1237 - accuracy: 0.9675 - val_loss: 0.1079 - val_accuracy: 0.9743\n",
            "Epoch 28/250\n",
            "125/125 [==============================] - 5s 36ms/step - loss: 0.1181 - accuracy: 0.9665 - val_loss: 0.1067 - val_accuracy: 0.9714\n",
            "Epoch 29/250\n",
            "125/125 [==============================] - 5s 36ms/step - loss: 0.1170 - accuracy: 0.9685 - val_loss: 0.1105 - val_accuracy: 0.9657\n",
            "Epoch 30/250\n",
            "125/125 [==============================] - 5s 36ms/step - loss: 0.1119 - accuracy: 0.9705 - val_loss: 0.1056 - val_accuracy: 0.9686\n",
            "Epoch 31/250\n",
            "125/125 [==============================] - 5s 36ms/step - loss: 0.1073 - accuracy: 0.9690 - val_loss: 0.0961 - val_accuracy: 0.9800\n",
            "Epoch 32/250\n",
            "125/125 [==============================] - 5s 37ms/step - loss: 0.1069 - accuracy: 0.9700 - val_loss: 0.0936 - val_accuracy: 0.9814\n",
            "Epoch 33/250\n",
            "125/125 [==============================] - 5s 39ms/step - loss: 0.1055 - accuracy: 0.9695 - val_loss: 0.0923 - val_accuracy: 0.9800\n",
            "Epoch 34/250\n",
            "125/125 [==============================] - 5s 36ms/step - loss: 0.1057 - accuracy: 0.9695 - val_loss: 0.0927 - val_accuracy: 0.9786\n",
            "Epoch 35/250\n",
            "125/125 [==============================] - 5s 37ms/step - loss: 0.1016 - accuracy: 0.9725 - val_loss: 0.0883 - val_accuracy: 0.9814\n",
            "Epoch 36/250\n",
            "125/125 [==============================] - 5s 36ms/step - loss: 0.0987 - accuracy: 0.9700 - val_loss: 0.0898 - val_accuracy: 0.9771\n",
            "Epoch 37/250\n",
            "125/125 [==============================] - 5s 39ms/step - loss: 0.0962 - accuracy: 0.9730 - val_loss: 0.0879 - val_accuracy: 0.9771\n",
            "Epoch 38/250\n",
            "125/125 [==============================] - 5s 36ms/step - loss: 0.0938 - accuracy: 0.9730 - val_loss: 0.0827 - val_accuracy: 0.9800\n",
            "Epoch 39/250\n",
            "125/125 [==============================] - 5s 36ms/step - loss: 0.0928 - accuracy: 0.9745 - val_loss: 0.0814 - val_accuracy: 0.9814\n",
            "Epoch 40/250\n",
            "125/125 [==============================] - 5s 36ms/step - loss: 0.0901 - accuracy: 0.9755 - val_loss: 0.0821 - val_accuracy: 0.9786\n",
            "Epoch 41/250\n",
            "125/125 [==============================] - 5s 37ms/step - loss: 0.0882 - accuracy: 0.9775 - val_loss: 0.0877 - val_accuracy: 0.9729\n",
            "Epoch 42/250\n",
            "125/125 [==============================] - 5s 36ms/step - loss: 0.0896 - accuracy: 0.9745 - val_loss: 0.0783 - val_accuracy: 0.9800\n",
            "Epoch 43/250\n",
            "125/125 [==============================] - 5s 36ms/step - loss: 0.0865 - accuracy: 0.9745 - val_loss: 0.0925 - val_accuracy: 0.9700\n",
            "Epoch 44/250\n",
            "125/125 [==============================] - 5s 36ms/step - loss: 0.0885 - accuracy: 0.9750 - val_loss: 0.0860 - val_accuracy: 0.9743\n",
            "Epoch 45/250\n",
            "125/125 [==============================] - 5s 36ms/step - loss: 0.0834 - accuracy: 0.9775 - val_loss: 0.0771 - val_accuracy: 0.9800\n",
            "Epoch 46/250\n",
            "125/125 [==============================] - 5s 36ms/step - loss: 0.0879 - accuracy: 0.9750 - val_loss: 0.0735 - val_accuracy: 0.9814\n",
            "Epoch 47/250\n",
            "125/125 [==============================] - 5s 36ms/step - loss: 0.0830 - accuracy: 0.9780 - val_loss: 0.0714 - val_accuracy: 0.9829\n",
            "Epoch 48/250\n",
            "125/125 [==============================] - 5s 36ms/step - loss: 0.0832 - accuracy: 0.9745 - val_loss: 0.0707 - val_accuracy: 0.9829\n",
            "Epoch 49/250\n",
            "125/125 [==============================] - 5s 36ms/step - loss: 0.0801 - accuracy: 0.9755 - val_loss: 0.0744 - val_accuracy: 0.9814\n",
            "Epoch 50/250\n",
            "125/125 [==============================] - 5s 36ms/step - loss: 0.0807 - accuracy: 0.9775 - val_loss: 0.0693 - val_accuracy: 0.9814\n",
            "Epoch 51/250\n",
            "125/125 [==============================] - 5s 40ms/step - loss: 0.0761 - accuracy: 0.9790 - val_loss: 0.0667 - val_accuracy: 0.9814\n",
            "Epoch 52/250\n",
            "125/125 [==============================] - 5s 36ms/step - loss: 0.0762 - accuracy: 0.9765 - val_loss: 0.0691 - val_accuracy: 0.9843\n",
            "Epoch 53/250\n",
            "125/125 [==============================] - 5s 36ms/step - loss: 0.0742 - accuracy: 0.9765 - val_loss: 0.0651 - val_accuracy: 0.9829\n",
            "Epoch 54/250\n",
            "125/125 [==============================] - 5s 37ms/step - loss: 0.0727 - accuracy: 0.9785 - val_loss: 0.0741 - val_accuracy: 0.9800\n",
            "Epoch 55/250\n",
            "125/125 [==============================] - 5s 36ms/step - loss: 0.0726 - accuracy: 0.9795 - val_loss: 0.0723 - val_accuracy: 0.9800\n",
            "Epoch 56/250\n",
            "125/125 [==============================] - 5s 41ms/step - loss: 0.0732 - accuracy: 0.9805 - val_loss: 0.0629 - val_accuracy: 0.9843\n",
            "Epoch 57/250\n",
            "125/125 [==============================] - 5s 40ms/step - loss: 0.0709 - accuracy: 0.9780 - val_loss: 0.0615 - val_accuracy: 0.9843\n",
            "Epoch 58/250\n",
            "125/125 [==============================] - 5s 37ms/step - loss: 0.0685 - accuracy: 0.9820 - val_loss: 0.0788 - val_accuracy: 0.9729\n",
            "Epoch 59/250\n",
            "125/125 [==============================] - 5s 38ms/step - loss: 0.0710 - accuracy: 0.9810 - val_loss: 0.0587 - val_accuracy: 0.9857\n",
            "Epoch 60/250\n",
            "125/125 [==============================] - 5s 38ms/step - loss: 0.0667 - accuracy: 0.9795 - val_loss: 0.0586 - val_accuracy: 0.9857\n",
            "Epoch 61/250\n",
            "125/125 [==============================] - 5s 36ms/step - loss: 0.0682 - accuracy: 0.9810 - val_loss: 0.0581 - val_accuracy: 0.9843\n",
            "Epoch 62/250\n",
            "125/125 [==============================] - 5s 38ms/step - loss: 0.0678 - accuracy: 0.9840 - val_loss: 0.0562 - val_accuracy: 0.9857\n",
            "Epoch 63/250\n",
            "125/125 [==============================] - 5s 37ms/step - loss: 0.0669 - accuracy: 0.9790 - val_loss: 0.0586 - val_accuracy: 0.9829\n",
            "Epoch 64/250\n",
            "125/125 [==============================] - 5s 36ms/step - loss: 0.0660 - accuracy: 0.9820 - val_loss: 0.0577 - val_accuracy: 0.9857\n",
            "Epoch 65/250\n",
            "125/125 [==============================] - 5s 36ms/step - loss: 0.0639 - accuracy: 0.9830 - val_loss: 0.0540 - val_accuracy: 0.9871\n",
            "Epoch 66/250\n",
            "125/125 [==============================] - 5s 36ms/step - loss: 0.0634 - accuracy: 0.9825 - val_loss: 0.0606 - val_accuracy: 0.9857\n",
            "Epoch 67/250\n",
            "125/125 [==============================] - 5s 37ms/step - loss: 0.0628 - accuracy: 0.9835 - val_loss: 0.0526 - val_accuracy: 0.9871\n",
            "Epoch 68/250\n",
            "125/125 [==============================] - 5s 36ms/step - loss: 0.0632 - accuracy: 0.9825 - val_loss: 0.0531 - val_accuracy: 0.9886\n",
            "Epoch 69/250\n",
            "125/125 [==============================] - 5s 37ms/step - loss: 0.0624 - accuracy: 0.9835 - val_loss: 0.0567 - val_accuracy: 0.9857\n",
            "Epoch 70/250\n",
            "125/125 [==============================] - 5s 36ms/step - loss: 0.0612 - accuracy: 0.9820 - val_loss: 0.0518 - val_accuracy: 0.9900\n",
            "Epoch 71/250\n",
            "125/125 [==============================] - 5s 37ms/step - loss: 0.0602 - accuracy: 0.9850 - val_loss: 0.0508 - val_accuracy: 0.9886\n",
            "Epoch 72/250\n",
            "125/125 [==============================] - 5s 36ms/step - loss: 0.0600 - accuracy: 0.9830 - val_loss: 0.0572 - val_accuracy: 0.9843\n",
            "Epoch 73/250\n",
            "125/125 [==============================] - 5s 36ms/step - loss: 0.0594 - accuracy: 0.9860 - val_loss: 0.0528 - val_accuracy: 0.9871\n",
            "Epoch 74/250\n",
            "125/125 [==============================] - 5s 36ms/step - loss: 0.0579 - accuracy: 0.9840 - val_loss: 0.0486 - val_accuracy: 0.9900\n",
            "Epoch 75/250\n",
            "125/125 [==============================] - 5s 36ms/step - loss: 0.0597 - accuracy: 0.9860 - val_loss: 0.0484 - val_accuracy: 0.9900\n",
            "Epoch 76/250\n",
            "125/125 [==============================] - 5s 36ms/step - loss: 0.0580 - accuracy: 0.9850 - val_loss: 0.0470 - val_accuracy: 0.9914\n",
            "Epoch 77/250\n",
            "125/125 [==============================] - 5s 37ms/step - loss: 0.0585 - accuracy: 0.9835 - val_loss: 0.0468 - val_accuracy: 0.9900\n",
            "Epoch 78/250\n",
            "125/125 [==============================] - 5s 38ms/step - loss: 0.0558 - accuracy: 0.9850 - val_loss: 0.0489 - val_accuracy: 0.9871\n",
            "Epoch 79/250\n",
            "125/125 [==============================] - 5s 39ms/step - loss: 0.0556 - accuracy: 0.9845 - val_loss: 0.0472 - val_accuracy: 0.9886\n",
            "Epoch 80/250\n",
            "125/125 [==============================] - 5s 37ms/step - loss: 0.0551 - accuracy: 0.9805 - val_loss: 0.0442 - val_accuracy: 0.9900\n",
            "Epoch 81/250\n",
            "125/125 [==============================] - 4s 36ms/step - loss: 0.0547 - accuracy: 0.9850 - val_loss: 0.0504 - val_accuracy: 0.9829\n",
            "Epoch 82/250\n",
            "125/125 [==============================] - 5s 37ms/step - loss: 0.0537 - accuracy: 0.9850 - val_loss: 0.0396 - val_accuracy: 0.9914\n",
            "Epoch 83/250\n",
            "125/125 [==============================] - 5s 41ms/step - loss: 0.0540 - accuracy: 0.9840 - val_loss: 0.0446 - val_accuracy: 0.9900\n",
            "Epoch 84/250\n",
            "125/125 [==============================] - 6s 44ms/step - loss: 0.0524 - accuracy: 0.9865 - val_loss: 0.0388 - val_accuracy: 0.9914\n",
            "Epoch 85/250\n",
            "125/125 [==============================] - 6s 46ms/step - loss: 0.0509 - accuracy: 0.9850 - val_loss: 0.0372 - val_accuracy: 0.9929\n",
            "Epoch 86/250\n",
            "125/125 [==============================] - 5s 44ms/step - loss: 0.0511 - accuracy: 0.9835 - val_loss: 0.0387 - val_accuracy: 0.9914\n",
            "Epoch 87/250\n",
            "125/125 [==============================] - 5s 39ms/step - loss: 0.0520 - accuracy: 0.9870 - val_loss: 0.0447 - val_accuracy: 0.9871\n",
            "Epoch 88/250\n",
            "125/125 [==============================] - 5s 39ms/step - loss: 0.0508 - accuracy: 0.9870 - val_loss: 0.0400 - val_accuracy: 0.9900\n",
            "Epoch 89/250\n",
            "125/125 [==============================] - 5s 41ms/step - loss: 0.0505 - accuracy: 0.9870 - val_loss: 0.0395 - val_accuracy: 0.9900\n",
            "Epoch 90/250\n",
            "125/125 [==============================] - 4s 34ms/step - loss: 0.0488 - accuracy: 0.9875 - val_loss: 0.0350 - val_accuracy: 0.9929\n",
            "Epoch 91/250\n",
            "125/125 [==============================] - 4s 34ms/step - loss: 0.0494 - accuracy: 0.9865 - val_loss: 0.0345 - val_accuracy: 0.9929\n",
            "Epoch 92/250\n",
            "125/125 [==============================] - 4s 35ms/step - loss: 0.0483 - accuracy: 0.9865 - val_loss: 0.0355 - val_accuracy: 0.9914\n",
            "Epoch 93/250\n",
            "125/125 [==============================] - 5s 39ms/step - loss: 0.0487 - accuracy: 0.9860 - val_loss: 0.0398 - val_accuracy: 0.9900\n",
            "Epoch 94/250\n",
            "125/125 [==============================] - 4s 34ms/step - loss: 0.0484 - accuracy: 0.9855 - val_loss: 0.0335 - val_accuracy: 0.9929\n",
            "Epoch 95/250\n",
            "125/125 [==============================] - 4s 35ms/step - loss: 0.0505 - accuracy: 0.9850 - val_loss: 0.0515 - val_accuracy: 0.9814\n",
            "Epoch 96/250\n",
            "125/125 [==============================] - 5s 37ms/step - loss: 0.0481 - accuracy: 0.9835 - val_loss: 0.0346 - val_accuracy: 0.9914\n",
            "Epoch 97/250\n",
            "125/125 [==============================] - 4s 32ms/step - loss: 0.0468 - accuracy: 0.9850 - val_loss: 0.0338 - val_accuracy: 0.9929\n",
            "Epoch 98/250\n",
            "125/125 [==============================] - 4s 32ms/step - loss: 0.0468 - accuracy: 0.9860 - val_loss: 0.0390 - val_accuracy: 0.9886\n",
            "Epoch 99/250\n",
            "125/125 [==============================] - 4s 32ms/step - loss: 0.0465 - accuracy: 0.9870 - val_loss: 0.0347 - val_accuracy: 0.9900\n",
            "Epoch 100/250\n",
            "125/125 [==============================] - 4s 32ms/step - loss: 0.0467 - accuracy: 0.9860 - val_loss: 0.0337 - val_accuracy: 0.9929\n",
            "Epoch 101/250\n",
            "125/125 [==============================] - 4s 32ms/step - loss: 0.0453 - accuracy: 0.9880 - val_loss: 0.0367 - val_accuracy: 0.9900\n",
            "Epoch 102/250\n",
            "125/125 [==============================] - 4s 32ms/step - loss: 0.0447 - accuracy: 0.9870 - val_loss: 0.0328 - val_accuracy: 0.9929\n",
            "Epoch 103/250\n",
            "125/125 [==============================] - 4s 32ms/step - loss: 0.0434 - accuracy: 0.9860 - val_loss: 0.0330 - val_accuracy: 0.9914\n",
            "Epoch 104/250\n",
            "125/125 [==============================] - 4s 32ms/step - loss: 0.0425 - accuracy: 0.9885 - val_loss: 0.0386 - val_accuracy: 0.9871\n",
            "Epoch 105/250\n",
            "125/125 [==============================] - 4s 32ms/step - loss: 0.0434 - accuracy: 0.9875 - val_loss: 0.0317 - val_accuracy: 0.9929\n",
            "Epoch 106/250\n",
            "125/125 [==============================] - 4s 32ms/step - loss: 0.0431 - accuracy: 0.9870 - val_loss: 0.0350 - val_accuracy: 0.9900\n",
            "Epoch 107/250\n",
            "125/125 [==============================] - 4s 32ms/step - loss: 0.0430 - accuracy: 0.9855 - val_loss: 0.0323 - val_accuracy: 0.9929\n",
            "Epoch 108/250\n",
            "125/125 [==============================] - 4s 32ms/step - loss: 0.0430 - accuracy: 0.9870 - val_loss: 0.0324 - val_accuracy: 0.9914\n",
            "Epoch 109/250\n",
            "125/125 [==============================] - 4s 32ms/step - loss: 0.0428 - accuracy: 0.9855 - val_loss: 0.0325 - val_accuracy: 0.9900\n",
            "Epoch 110/250\n",
            "125/125 [==============================] - 4s 32ms/step - loss: 0.0423 - accuracy: 0.9865 - val_loss: 0.0307 - val_accuracy: 0.9929\n",
            "Epoch 111/250\n",
            "125/125 [==============================] - 4s 32ms/step - loss: 0.0413 - accuracy: 0.9860 - val_loss: 0.0369 - val_accuracy: 0.9871\n",
            "Epoch 112/250\n",
            "125/125 [==============================] - 4s 32ms/step - loss: 0.0423 - accuracy: 0.9850 - val_loss: 0.0335 - val_accuracy: 0.9900\n",
            "Epoch 113/250\n",
            "125/125 [==============================] - 4s 32ms/step - loss: 0.0415 - accuracy: 0.9870 - val_loss: 0.0305 - val_accuracy: 0.9929\n",
            "Epoch 114/250\n",
            "125/125 [==============================] - 4s 32ms/step - loss: 0.0415 - accuracy: 0.9870 - val_loss: 0.0360 - val_accuracy: 0.9871\n",
            "Epoch 115/250\n",
            "125/125 [==============================] - 4s 32ms/step - loss: 0.0409 - accuracy: 0.9890 - val_loss: 0.0308 - val_accuracy: 0.9900\n",
            "Epoch 116/250\n",
            "125/125 [==============================] - 4s 32ms/step - loss: 0.0419 - accuracy: 0.9860 - val_loss: 0.0294 - val_accuracy: 0.9929\n",
            "Epoch 117/250\n",
            "125/125 [==============================] - 4s 33ms/step - loss: 0.0403 - accuracy: 0.9875 - val_loss: 0.0392 - val_accuracy: 0.9871\n",
            "Epoch 118/250\n",
            "125/125 [==============================] - 4s 32ms/step - loss: 0.0417 - accuracy: 0.9865 - val_loss: 0.0318 - val_accuracy: 0.9900\n",
            "Epoch 119/250\n",
            "125/125 [==============================] - 4s 32ms/step - loss: 0.0408 - accuracy: 0.9890 - val_loss: 0.0308 - val_accuracy: 0.9900\n",
            "Epoch 120/250\n",
            "125/125 [==============================] - 4s 32ms/step - loss: 0.0400 - accuracy: 0.9880 - val_loss: 0.0361 - val_accuracy: 0.9871\n",
            "Epoch 121/250\n",
            "125/125 [==============================] - 4s 32ms/step - loss: 0.0407 - accuracy: 0.9875 - val_loss: 0.0306 - val_accuracy: 0.9900\n",
            "Epoch 122/250\n",
            "125/125 [==============================] - 4s 32ms/step - loss: 0.0404 - accuracy: 0.9855 - val_loss: 0.0305 - val_accuracy: 0.9900\n",
            "Epoch 123/250\n",
            "125/125 [==============================] - 4s 32ms/step - loss: 0.0407 - accuracy: 0.9875 - val_loss: 0.0297 - val_accuracy: 0.9929\n",
            "Epoch 124/250\n",
            "125/125 [==============================] - 4s 32ms/step - loss: 0.0401 - accuracy: 0.9865 - val_loss: 0.0293 - val_accuracy: 0.9914\n",
            "Epoch 125/250\n",
            "125/125 [==============================] - 4s 32ms/step - loss: 0.0422 - accuracy: 0.9875 - val_loss: 0.0313 - val_accuracy: 0.9886\n",
            "Epoch 126/250\n",
            "125/125 [==============================] - 4s 32ms/step - loss: 0.0402 - accuracy: 0.9865 - val_loss: 0.0270 - val_accuracy: 0.9914\n",
            "Epoch 127/250\n",
            "125/125 [==============================] - 4s 32ms/step - loss: 0.0379 - accuracy: 0.9885 - val_loss: 0.0320 - val_accuracy: 0.9871\n",
            "Epoch 128/250\n",
            "125/125 [==============================] - 4s 32ms/step - loss: 0.0404 - accuracy: 0.9860 - val_loss: 0.0271 - val_accuracy: 0.9900\n",
            "Epoch 129/250\n",
            "125/125 [==============================] - 4s 32ms/step - loss: 0.0385 - accuracy: 0.9855 - val_loss: 0.0290 - val_accuracy: 0.9871\n",
            "Epoch 130/250\n",
            "125/125 [==============================] - 4s 32ms/step - loss: 0.0374 - accuracy: 0.9885 - val_loss: 0.0232 - val_accuracy: 0.9929\n",
            "Epoch 131/250\n",
            "125/125 [==============================] - 4s 32ms/step - loss: 0.0367 - accuracy: 0.9885 - val_loss: 0.0281 - val_accuracy: 0.9886\n",
            "Epoch 132/250\n",
            "125/125 [==============================] - 4s 33ms/step - loss: 0.0370 - accuracy: 0.9900 - val_loss: 0.0211 - val_accuracy: 0.9929\n",
            "Epoch 133/250\n",
            "125/125 [==============================] - 4s 32ms/step - loss: 0.0358 - accuracy: 0.9880 - val_loss: 0.0233 - val_accuracy: 0.9900\n",
            "Epoch 134/250\n",
            "125/125 [==============================] - 4s 32ms/step - loss: 0.0360 - accuracy: 0.9885 - val_loss: 0.0212 - val_accuracy: 0.9914\n",
            "Epoch 135/250\n",
            "125/125 [==============================] - 4s 32ms/step - loss: 0.0359 - accuracy: 0.9880 - val_loss: 0.0228 - val_accuracy: 0.9914\n",
            "Epoch 136/250\n",
            "125/125 [==============================] - 4s 32ms/step - loss: 0.0355 - accuracy: 0.9880 - val_loss: 0.0227 - val_accuracy: 0.9914\n",
            "Epoch 137/250\n",
            "125/125 [==============================] - 4s 32ms/step - loss: 0.0371 - accuracy: 0.9880 - val_loss: 0.0219 - val_accuracy: 0.9914\n",
            "Epoch 138/250\n",
            "125/125 [==============================] - 4s 32ms/step - loss: 0.0352 - accuracy: 0.9875 - val_loss: 0.0212 - val_accuracy: 0.9914\n",
            "Epoch 139/250\n",
            "125/125 [==============================] - 4s 32ms/step - loss: 0.0375 - accuracy: 0.9880 - val_loss: 0.0235 - val_accuracy: 0.9914\n",
            "Epoch 140/250\n",
            "125/125 [==============================] - 4s 32ms/step - loss: 0.0351 - accuracy: 0.9870 - val_loss: 0.0229 - val_accuracy: 0.9900\n",
            "Epoch 141/250\n",
            "125/125 [==============================] - 4s 32ms/step - loss: 0.0340 - accuracy: 0.9900 - val_loss: 0.0192 - val_accuracy: 0.9943\n",
            "Epoch 142/250\n",
            "125/125 [==============================] - 4s 32ms/step - loss: 0.0356 - accuracy: 0.9865 - val_loss: 0.0191 - val_accuracy: 0.9943\n",
            "Epoch 143/250\n",
            "125/125 [==============================] - 4s 32ms/step - loss: 0.0352 - accuracy: 0.9880 - val_loss: 0.0196 - val_accuracy: 0.9943\n",
            "Epoch 144/250\n",
            "125/125 [==============================] - 4s 32ms/step - loss: 0.0350 - accuracy: 0.9885 - val_loss: 0.0203 - val_accuracy: 0.9914\n",
            "Epoch 145/250\n",
            "125/125 [==============================] - 4s 32ms/step - loss: 0.0348 - accuracy: 0.9885 - val_loss: 0.0192 - val_accuracy: 0.9929\n",
            "Epoch 146/250\n",
            "125/125 [==============================] - 4s 32ms/step - loss: 0.0359 - accuracy: 0.9880 - val_loss: 0.0210 - val_accuracy: 0.9914\n",
            "Epoch 147/250\n",
            "125/125 [==============================] - 4s 32ms/step - loss: 0.0343 - accuracy: 0.9885 - val_loss: 0.0193 - val_accuracy: 0.9943\n",
            "Epoch 148/250\n",
            "125/125 [==============================] - 4s 32ms/step - loss: 0.0343 - accuracy: 0.9860 - val_loss: 0.0189 - val_accuracy: 0.9943\n",
            "Epoch 149/250\n",
            "125/125 [==============================] - 4s 32ms/step - loss: 0.0342 - accuracy: 0.9875 - val_loss: 0.0185 - val_accuracy: 0.9943\n",
            "Epoch 150/250\n",
            "125/125 [==============================] - 4s 32ms/step - loss: 0.0343 - accuracy: 0.9875 - val_loss: 0.0209 - val_accuracy: 0.9914\n",
            "Epoch 151/250\n",
            "125/125 [==============================] - 4s 33ms/step - loss: 0.0340 - accuracy: 0.9875 - val_loss: 0.0190 - val_accuracy: 0.9914\n",
            "Epoch 152/250\n",
            "125/125 [==============================] - 4s 32ms/step - loss: 0.0339 - accuracy: 0.9905 - val_loss: 0.0185 - val_accuracy: 0.9943\n",
            "Epoch 153/250\n",
            "125/125 [==============================] - 4s 32ms/step - loss: 0.0339 - accuracy: 0.9885 - val_loss: 0.0188 - val_accuracy: 0.9929\n",
            "Epoch 154/250\n",
            "125/125 [==============================] - 4s 32ms/step - loss: 0.0333 - accuracy: 0.9880 - val_loss: 0.0253 - val_accuracy: 0.9886\n",
            "Epoch 155/250\n",
            "125/125 [==============================] - 4s 32ms/step - loss: 0.0339 - accuracy: 0.9885 - val_loss: 0.0214 - val_accuracy: 0.9900\n",
            "Epoch 156/250\n",
            "125/125 [==============================] - 4s 32ms/step - loss: 0.0336 - accuracy: 0.9885 - val_loss: 0.0201 - val_accuracy: 0.9900\n",
            "Epoch 157/250\n",
            "125/125 [==============================] - 4s 32ms/step - loss: 0.0339 - accuracy: 0.9885 - val_loss: 0.0210 - val_accuracy: 0.9900\n",
            "Epoch 158/250\n",
            "125/125 [==============================] - 4s 32ms/step - loss: 0.0328 - accuracy: 0.9880 - val_loss: 0.0234 - val_accuracy: 0.9886\n",
            "Epoch 159/250\n",
            "125/125 [==============================] - 4s 32ms/step - loss: 0.0326 - accuracy: 0.9885 - val_loss: 0.0178 - val_accuracy: 0.9943\n",
            "Epoch 160/250\n",
            "125/125 [==============================] - 4s 32ms/step - loss: 0.0332 - accuracy: 0.9880 - val_loss: 0.0176 - val_accuracy: 0.9943\n",
            "Epoch 161/250\n",
            "125/125 [==============================] - 4s 32ms/step - loss: 0.0332 - accuracy: 0.9880 - val_loss: 0.0188 - val_accuracy: 0.9900\n",
            "Epoch 162/250\n",
            "125/125 [==============================] - 4s 32ms/step - loss: 0.0327 - accuracy: 0.9870 - val_loss: 0.0192 - val_accuracy: 0.9900\n",
            "Epoch 163/250\n",
            "125/125 [==============================] - 4s 32ms/step - loss: 0.0328 - accuracy: 0.9890 - val_loss: 0.0168 - val_accuracy: 0.9943\n",
            "Epoch 164/250\n",
            "125/125 [==============================] - 4s 32ms/step - loss: 0.0326 - accuracy: 0.9875 - val_loss: 0.0215 - val_accuracy: 0.9886\n",
            "Epoch 165/250\n",
            "125/125 [==============================] - 4s 32ms/step - loss: 0.0319 - accuracy: 0.9890 - val_loss: 0.0166 - val_accuracy: 0.9943\n",
            "Epoch 166/250\n",
            "125/125 [==============================] - 4s 32ms/step - loss: 0.0326 - accuracy: 0.9875 - val_loss: 0.0203 - val_accuracy: 0.9900\n",
            "Epoch 167/250\n",
            "125/125 [==============================] - 4s 33ms/step - loss: 0.0332 - accuracy: 0.9885 - val_loss: 0.0166 - val_accuracy: 0.9943\n",
            "Epoch 168/250\n",
            "125/125 [==============================] - 4s 32ms/step - loss: 0.0334 - accuracy: 0.9880 - val_loss: 0.0184 - val_accuracy: 0.9900\n",
            "Epoch 169/250\n",
            "125/125 [==============================] - 4s 33ms/step - loss: 0.0321 - accuracy: 0.9880 - val_loss: 0.0228 - val_accuracy: 0.9886\n",
            "Epoch 170/250\n",
            "125/125 [==============================] - 4s 32ms/step - loss: 0.0327 - accuracy: 0.9890 - val_loss: 0.0186 - val_accuracy: 0.9900\n",
            "Epoch 171/250\n",
            "125/125 [==============================] - 4s 32ms/step - loss: 0.0325 - accuracy: 0.9890 - val_loss: 0.0199 - val_accuracy: 0.9900\n",
            "Epoch 172/250\n",
            "125/125 [==============================] - 4s 32ms/step - loss: 0.0327 - accuracy: 0.9875 - val_loss: 0.0173 - val_accuracy: 0.9943\n",
            "Epoch 173/250\n",
            "125/125 [==============================] - 4s 32ms/step - loss: 0.0321 - accuracy: 0.9885 - val_loss: 0.0197 - val_accuracy: 0.9886\n",
            "Epoch 174/250\n",
            "125/125 [==============================] - 4s 32ms/step - loss: 0.0316 - accuracy: 0.9875 - val_loss: 0.0180 - val_accuracy: 0.9900\n",
            "Epoch 175/250\n",
            "125/125 [==============================] - 4s 32ms/step - loss: 0.0316 - accuracy: 0.9875 - val_loss: 0.0226 - val_accuracy: 0.9886\n",
            "Epoch 176/250\n",
            "125/125 [==============================] - 4s 32ms/step - loss: 0.0319 - accuracy: 0.9890 - val_loss: 0.0168 - val_accuracy: 0.9914\n",
            "Epoch 177/250\n",
            "125/125 [==============================] - 4s 32ms/step - loss: 0.0321 - accuracy: 0.9890 - val_loss: 0.0169 - val_accuracy: 0.9900\n",
            "Epoch 178/250\n",
            "125/125 [==============================] - 4s 32ms/step - loss: 0.0323 - accuracy: 0.9900 - val_loss: 0.0171 - val_accuracy: 0.9900\n",
            "Epoch 179/250\n",
            "125/125 [==============================] - 4s 33ms/step - loss: 0.0322 - accuracy: 0.9880 - val_loss: 0.0170 - val_accuracy: 0.9900\n",
            "Epoch 180/250\n",
            "125/125 [==============================] - 4s 32ms/step - loss: 0.0322 - accuracy: 0.9875 - val_loss: 0.0209 - val_accuracy: 0.9900\n",
            "Epoch 181/250\n",
            "125/125 [==============================] - 4s 32ms/step - loss: 0.0315 - accuracy: 0.9885 - val_loss: 0.0206 - val_accuracy: 0.9886\n",
            "Epoch 182/250\n",
            "125/125 [==============================] - 4s 32ms/step - loss: 0.0326 - accuracy: 0.9880 - val_loss: 0.0149 - val_accuracy: 0.9957\n",
            "Epoch 183/250\n",
            "125/125 [==============================] - 4s 32ms/step - loss: 0.0314 - accuracy: 0.9905 - val_loss: 0.0186 - val_accuracy: 0.9900\n",
            "Epoch 184/250\n",
            "125/125 [==============================] - 4s 32ms/step - loss: 0.0320 - accuracy: 0.9890 - val_loss: 0.0204 - val_accuracy: 0.9886\n",
            "Epoch 185/250\n",
            "125/125 [==============================] - 4s 32ms/step - loss: 0.0313 - accuracy: 0.9895 - val_loss: 0.0175 - val_accuracy: 0.9900\n",
            "Epoch 186/250\n",
            "125/125 [==============================] - 4s 32ms/step - loss: 0.0313 - accuracy: 0.9895 - val_loss: 0.0155 - val_accuracy: 0.9957\n",
            "Epoch 187/250\n",
            "125/125 [==============================] - 4s 33ms/step - loss: 0.0315 - accuracy: 0.9880 - val_loss: 0.0174 - val_accuracy: 0.9900\n",
            "Epoch 188/250\n",
            "125/125 [==============================] - 4s 33ms/step - loss: 0.0316 - accuracy: 0.9885 - val_loss: 0.0200 - val_accuracy: 0.9886\n",
            "Epoch 189/250\n",
            "125/125 [==============================] - 4s 33ms/step - loss: 0.0317 - accuracy: 0.9880 - val_loss: 0.0220 - val_accuracy: 0.9886\n",
            "Epoch 190/250\n",
            "125/125 [==============================] - 4s 32ms/step - loss: 0.0315 - accuracy: 0.9885 - val_loss: 0.0212 - val_accuracy: 0.9886\n",
            "Epoch 191/250\n",
            "125/125 [==============================] - 4s 32ms/step - loss: 0.0312 - accuracy: 0.9895 - val_loss: 0.0169 - val_accuracy: 0.9914\n",
            "Epoch 192/250\n",
            "125/125 [==============================] - 4s 32ms/step - loss: 0.0307 - accuracy: 0.9890 - val_loss: 0.0178 - val_accuracy: 0.9900\n",
            "Epoch 193/250\n",
            "125/125 [==============================] - 4s 32ms/step - loss: 0.0310 - accuracy: 0.9900 - val_loss: 0.0156 - val_accuracy: 0.9943\n",
            "Epoch 194/250\n",
            "125/125 [==============================] - 4s 32ms/step - loss: 0.0310 - accuracy: 0.9895 - val_loss: 0.0193 - val_accuracy: 0.9886\n",
            "Epoch 195/250\n",
            "125/125 [==============================] - 4s 32ms/step - loss: 0.0316 - accuracy: 0.9905 - val_loss: 0.0183 - val_accuracy: 0.9886\n",
            "Epoch 196/250\n",
            "125/125 [==============================] - 4s 32ms/step - loss: 0.0308 - accuracy: 0.9890 - val_loss: 0.0196 - val_accuracy: 0.9886\n",
            "Epoch 197/250\n",
            "125/125 [==============================] - 4s 32ms/step - loss: 0.0313 - accuracy: 0.9895 - val_loss: 0.0170 - val_accuracy: 0.9914\n",
            "Epoch 198/250\n",
            "125/125 [==============================] - 4s 32ms/step - loss: 0.0307 - accuracy: 0.9890 - val_loss: 0.0162 - val_accuracy: 0.9914\n",
            "Epoch 199/250\n",
            "125/125 [==============================] - 4s 32ms/step - loss: 0.0295 - accuracy: 0.9890 - val_loss: 0.0184 - val_accuracy: 0.9900\n",
            "Epoch 200/250\n",
            "125/125 [==============================] - 4s 32ms/step - loss: 0.0291 - accuracy: 0.9890 - val_loss: 0.0203 - val_accuracy: 0.9886\n",
            "Epoch 201/250\n",
            "125/125 [==============================] - 4s 32ms/step - loss: 0.0286 - accuracy: 0.9910 - val_loss: 0.0180 - val_accuracy: 0.9900\n",
            "Epoch 202/250\n",
            "125/125 [==============================] - 4s 32ms/step - loss: 0.0292 - accuracy: 0.9890 - val_loss: 0.0197 - val_accuracy: 0.9900\n",
            "Epoch 203/250\n",
            "125/125 [==============================] - 4s 33ms/step - loss: 0.0298 - accuracy: 0.9880 - val_loss: 0.0173 - val_accuracy: 0.9914\n",
            "Epoch 204/250\n",
            "125/125 [==============================] - 4s 32ms/step - loss: 0.0291 - accuracy: 0.9895 - val_loss: 0.0155 - val_accuracy: 0.9929\n",
            "Epoch 205/250\n",
            "125/125 [==============================] - 4s 32ms/step - loss: 0.0279 - accuracy: 0.9900 - val_loss: 0.0160 - val_accuracy: 0.9914\n",
            "Epoch 206/250\n",
            "125/125 [==============================] - 4s 32ms/step - loss: 0.0279 - accuracy: 0.9890 - val_loss: 0.0180 - val_accuracy: 0.9900\n",
            "Epoch 207/250\n",
            "125/125 [==============================] - 4s 31ms/step - loss: 0.0280 - accuracy: 0.9900 - val_loss: 0.0173 - val_accuracy: 0.9914\n",
            "Epoch 208/250\n",
            "125/125 [==============================] - 4s 33ms/step - loss: 0.0285 - accuracy: 0.9910 - val_loss: 0.0170 - val_accuracy: 0.9900\n",
            "Epoch 209/250\n",
            "125/125 [==============================] - 4s 32ms/step - loss: 0.0281 - accuracy: 0.9895 - val_loss: 0.0179 - val_accuracy: 0.9900\n",
            "Epoch 210/250\n",
            "125/125 [==============================] - 4s 32ms/step - loss: 0.0275 - accuracy: 0.9900 - val_loss: 0.0133 - val_accuracy: 0.9957\n",
            "Epoch 211/250\n",
            "125/125 [==============================] - 4s 32ms/step - loss: 0.0282 - accuracy: 0.9895 - val_loss: 0.0161 - val_accuracy: 0.9929\n",
            "Epoch 212/250\n",
            "125/125 [==============================] - 4s 32ms/step - loss: 0.0276 - accuracy: 0.9915 - val_loss: 0.0139 - val_accuracy: 0.9957\n",
            "Epoch 213/250\n",
            "125/125 [==============================] - 4s 32ms/step - loss: 0.0283 - accuracy: 0.9905 - val_loss: 0.0145 - val_accuracy: 0.9943\n",
            "Epoch 214/250\n",
            "125/125 [==============================] - 4s 35ms/step - loss: 0.0285 - accuracy: 0.9890 - val_loss: 0.0207 - val_accuracy: 0.9900\n",
            "Epoch 215/250\n",
            "125/125 [==============================] - 4s 34ms/step - loss: 0.0281 - accuracy: 0.9895 - val_loss: 0.0160 - val_accuracy: 0.9914\n",
            "Epoch 216/250\n",
            "125/125 [==============================] - 4s 34ms/step - loss: 0.0276 - accuracy: 0.9905 - val_loss: 0.0138 - val_accuracy: 0.9957\n",
            "Epoch 217/250\n",
            "125/125 [==============================] - 4s 34ms/step - loss: 0.0278 - accuracy: 0.9910 - val_loss: 0.0178 - val_accuracy: 0.9914\n",
            "Epoch 218/250\n",
            "125/125 [==============================] - 4s 34ms/step - loss: 0.0279 - accuracy: 0.9910 - val_loss: 0.0194 - val_accuracy: 0.9900\n",
            "Epoch 219/250\n",
            "125/125 [==============================] - 4s 34ms/step - loss: 0.0279 - accuracy: 0.9890 - val_loss: 0.0208 - val_accuracy: 0.9900\n",
            "Epoch 220/250\n",
            "125/125 [==============================] - 4s 34ms/step - loss: 0.0280 - accuracy: 0.9910 - val_loss: 0.0190 - val_accuracy: 0.9900\n",
            "Epoch 221/250\n",
            "125/125 [==============================] - 5s 36ms/step - loss: 0.0278 - accuracy: 0.9895 - val_loss: 0.0159 - val_accuracy: 0.9914\n",
            "Epoch 222/250\n",
            "125/125 [==============================] - 4s 34ms/step - loss: 0.0283 - accuracy: 0.9895 - val_loss: 0.0156 - val_accuracy: 0.9914\n",
            "Epoch 223/250\n",
            "125/125 [==============================] - 4s 36ms/step - loss: 0.0276 - accuracy: 0.9905 - val_loss: 0.0169 - val_accuracy: 0.9914\n",
            "Epoch 224/250\n",
            "125/125 [==============================] - 4s 34ms/step - loss: 0.0281 - accuracy: 0.9905 - val_loss: 0.0149 - val_accuracy: 0.9943\n",
            "Epoch 225/250\n",
            "125/125 [==============================] - 4s 34ms/step - loss: 0.0274 - accuracy: 0.9905 - val_loss: 0.0151 - val_accuracy: 0.9929\n",
            "Epoch 226/250\n",
            "125/125 [==============================] - 4s 35ms/step - loss: 0.0276 - accuracy: 0.9890 - val_loss: 0.0162 - val_accuracy: 0.9914\n",
            "Epoch 227/250\n",
            "125/125 [==============================] - 4s 34ms/step - loss: 0.0276 - accuracy: 0.9895 - val_loss: 0.0168 - val_accuracy: 0.9900\n",
            "Epoch 228/250\n",
            "125/125 [==============================] - 4s 34ms/step - loss: 0.0283 - accuracy: 0.9900 - val_loss: 0.0153 - val_accuracy: 0.9914\n",
            "Epoch 229/250\n",
            "125/125 [==============================] - 4s 34ms/step - loss: 0.0278 - accuracy: 0.9885 - val_loss: 0.0157 - val_accuracy: 0.9900\n",
            "Epoch 230/250\n",
            "125/125 [==============================] - 4s 34ms/step - loss: 0.0279 - accuracy: 0.9905 - val_loss: 0.0139 - val_accuracy: 0.9943\n",
            "Epoch 231/250\n",
            "125/125 [==============================] - 4s 34ms/step - loss: 0.0288 - accuracy: 0.9890 - val_loss: 0.0144 - val_accuracy: 0.9943\n",
            "Epoch 232/250\n",
            "125/125 [==============================] - 4s 34ms/step - loss: 0.0274 - accuracy: 0.9900 - val_loss: 0.0165 - val_accuracy: 0.9914\n",
            "Epoch 233/250\n",
            "125/125 [==============================] - 4s 34ms/step - loss: 0.0274 - accuracy: 0.9910 - val_loss: 0.0160 - val_accuracy: 0.9914\n",
            "Epoch 234/250\n",
            "125/125 [==============================] - 4s 35ms/step - loss: 0.0275 - accuracy: 0.9895 - val_loss: 0.0189 - val_accuracy: 0.9900\n",
            "Epoch 235/250\n",
            "125/125 [==============================] - 4s 35ms/step - loss: 0.0285 - accuracy: 0.9895 - val_loss: 0.0165 - val_accuracy: 0.9914\n",
            "Epoch 236/250\n",
            "125/125 [==============================] - 4s 35ms/step - loss: 0.0283 - accuracy: 0.9890 - val_loss: 0.0139 - val_accuracy: 0.9943\n",
            "Epoch 237/250\n",
            "125/125 [==============================] - 4s 34ms/step - loss: 0.0273 - accuracy: 0.9890 - val_loss: 0.0182 - val_accuracy: 0.9900\n",
            "Epoch 238/250\n",
            "125/125 [==============================] - 4s 34ms/step - loss: 0.0272 - accuracy: 0.9910 - val_loss: 0.0148 - val_accuracy: 0.9943\n",
            "Epoch 239/250\n",
            "125/125 [==============================] - 4s 34ms/step - loss: 0.0274 - accuracy: 0.9900 - val_loss: 0.0152 - val_accuracy: 0.9929\n",
            "Epoch 240/250\n",
            "125/125 [==============================] - 5s 36ms/step - loss: 0.0265 - accuracy: 0.9910 - val_loss: 0.0126 - val_accuracy: 0.9957\n",
            "Epoch 241/250\n",
            "125/125 [==============================] - 4s 34ms/step - loss: 0.0286 - accuracy: 0.9890 - val_loss: 0.0160 - val_accuracy: 0.9900\n",
            "Epoch 242/250\n",
            "125/125 [==============================] - 4s 34ms/step - loss: 0.0280 - accuracy: 0.9900 - val_loss: 0.0159 - val_accuracy: 0.9929\n",
            "Epoch 243/250\n",
            "125/125 [==============================] - 4s 34ms/step - loss: 0.0272 - accuracy: 0.9890 - val_loss: 0.0147 - val_accuracy: 0.9943\n",
            "Epoch 244/250\n",
            "125/125 [==============================] - 4s 34ms/step - loss: 0.0273 - accuracy: 0.9910 - val_loss: 0.0163 - val_accuracy: 0.9900\n",
            "Epoch 245/250\n",
            "125/125 [==============================] - 4s 34ms/step - loss: 0.0272 - accuracy: 0.9900 - val_loss: 0.0164 - val_accuracy: 0.9914\n",
            "Epoch 246/250\n",
            "125/125 [==============================] - 4s 34ms/step - loss: 0.0274 - accuracy: 0.9895 - val_loss: 0.0145 - val_accuracy: 0.9943\n",
            "Epoch 247/250\n",
            "125/125 [==============================] - 4s 34ms/step - loss: 0.0276 - accuracy: 0.9880 - val_loss: 0.0151 - val_accuracy: 0.9914\n",
            "Epoch 248/250\n",
            "125/125 [==============================] - 4s 34ms/step - loss: 0.0273 - accuracy: 0.9905 - val_loss: 0.0148 - val_accuracy: 0.9929\n",
            "Epoch 249/250\n",
            "125/125 [==============================] - 4s 34ms/step - loss: 0.0270 - accuracy: 0.9900 - val_loss: 0.0152 - val_accuracy: 0.9914\n",
            "Epoch 250/250\n",
            "125/125 [==============================] - 4s 34ms/step - loss: 0.0270 - accuracy: 0.9905 - val_loss: 0.0164 - val_accuracy: 0.9914\n"
          ]
        }
      ],
      "source": [
        "history: list = model.fit(\n",
        "    train_padded,\n",
        "    train_label,\n",
        "    batch_size=16,\n",
        "    epochs=num_epochs,\n",
        "    validation_data=(validation_padded, validation_label),\n",
        ").history"
      ]
    },
    {
      "cell_type": "markdown",
      "metadata": {},
      "source": [
        "### Save Model"
      ]
    },
    {
      "cell_type": "code",
      "execution_count": 470,
      "metadata": {},
      "outputs": [],
      "source": [
        "model.save(str(f\".\\models\\model_{num_epochs}e.h5\"))"
      ]
    },
    {
      "cell_type": "markdown",
      "metadata": {},
      "source": [
        "# Evaluation"
      ]
    },
    {
      "cell_type": "markdown",
      "metadata": {},
      "source": [
        "### Load Model"
      ]
    },
    {
      "cell_type": "code",
      "execution_count": 471,
      "metadata": {},
      "outputs": [],
      "source": [
        "model = tf.keras.models.load_model(str(f\".\\models\\model_{num_epochs}e.h5\"))"
      ]
    },
    {
      "cell_type": "markdown",
      "metadata": {},
      "source": [
        "### Plot Metrics"
      ]
    },
    {
      "cell_type": "code",
      "execution_count": 472,
      "metadata": {
        "id": "lqdfFJ0LvLWL"
      },
      "outputs": [
        {
          "data": {
            "text/plain": [
              "<Figure size 432x288 with 0 Axes>"
            ]
          },
          "execution_count": 472,
          "metadata": {},
          "output_type": "execute_result"
        },
        {
          "data": {
            "image/png": "[encoded data removed]",
            "text/plain": [
              "<Figure size 432x288 with 1 Axes>"
            ]
          },
          "metadata": {
            "needs_background": "light"
          },
          "output_type": "display_data"
        },
        {
          "data": {
            "image/png": "[encoded data removed]",
            "text/plain": [
              "<Figure size 432x288 with 1 Axes>"
            ]
          },
          "metadata": {
            "needs_background": "light"
          },
          "output_type": "display_data"
        },
        {
          "data": {
            "text/plain": [
              "<Figure size 432x288 with 0 Axes>"
            ]
          },
          "metadata": {},
          "output_type": "display_data"
        }
      ],
      "source": [
        "%matplotlib inline\n",
        "import matplotlib.pyplot as plt\n",
        "\n",
        "epochs=range(len(history['accuracy']))\n",
        "\n",
        "acc = history['accuracy']\n",
        "val_acc = history['val_accuracy']\n",
        "plt.plot(epochs, acc, 'g', 'Training Accuracy')\n",
        "plt.plot(epochs, val_acc, 'r', 'Validation Accuracy')\n",
        "plt.title('Training and validation accuracy')\n",
        "plt.figure()\n",
        "\n",
        "loss = history['loss']\n",
        "val_loss = history['val_loss']\n",
        "plt.plot(epochs, loss, 'g', 'Training Loss')\n",
        "plt.plot(epochs, val_loss, 'r', 'Validation Loss')\n",
        "plt.title('Training and validation loss')\n",
        "plt.figure()"
      ]
    },
    {
      "cell_type": "markdown",
      "metadata": {},
      "source": [
        "# Predictions"
      ]
    },
    {
      "cell_type": "markdown",
      "metadata": {},
      "source": [
        "### Generate From Model"
      ]
    },
    {
      "cell_type": "code",
      "execution_count": 473,
      "metadata": {},
      "outputs": [
        {
          "name": "stdout",
          "output_type": "stream",
          "text": [
            "2743/2743 [==============================] - 18s 6ms/step\n"
          ]
        },
        {
          "data": {
            "text/plain": [
              "array([[1.   ],\n",
              "       [1.   ],\n",
              "       [1.   ],\n",
              "       ...,\n",
              "       [0.002],\n",
              "       [1.   ],\n",
              "       [0.002]], dtype=float32)"
            ]
          },
          "execution_count": 473,
          "metadata": {},
          "output_type": "execute_result"
        }
      ],
      "source": [
        "predictions: numpy.array = model.predict(predict_padded, batch_size=16, verbose=1)\n",
        "numpy.round(predictions, 3)"
      ]
    },
    {
      "cell_type": "markdown",
      "metadata": {},
      "source": [
        "### Classify the predictions into 'Pro or 'Con"
      ]
    },
    {
      "cell_type": "code",
      "execution_count": 474,
      "metadata": {},
      "outputs": [
        {
          "name": "stdout",
          "output_type": "stream",
          "text": [
            "[[1.         1.         1.         1.         0.00118515 0.00130841]]\n",
            "['Pro' 'Pro' 'Pro' 'Pro' 'Con' 'Con']\n"
          ]
        }
      ],
      "source": [
        "classifications = []\n",
        "for value in predictions:\n",
        "    if (value > 0.5): classifications.append(\"Pro\")\n",
        "    else: classifications.append(\"Con\")\n",
        "classifications = numpy.asarray(classifications)\n",
        "\n",
        "print(predictions[:6].T)\n",
        "print(classifications[:6].T)"
      ]
    },
    {
      "cell_type": "markdown",
      "metadata": {},
      "source": [
        "### Save Predictions to File"
      ]
    },
    {
      "cell_type": "code",
      "execution_count": 475,
      "metadata": {},
      "outputs": [],
      "source": [
        "with open(str(f\".\\predictions\\predictions_{num_epochs}e.csv\"), 'w') as output:\n",
        "    for index in range(len(predict_text)):\n",
        "        output.write(f\"\\\"{predict_text[index]}\\\",{classifications[index]}\\n\")"
      ]
    },
    {
      "cell_type": "markdown",
      "metadata": {},
      "source": [
        "# Compare Predictions Against Text"
      ]
    },
    {
      "cell_type": "markdown",
      "metadata": {},
      "source": [
        "### Against Prediction Set"
      ]
    },
    {
      "cell_type": "code",
      "execution_count": 476,
      "metadata": {},
      "outputs": [
        {
          "name": "stdout",
          "output_type": "stream",
          "text": [
            "The screen is not easy to read in direct sunlight.\n",
            " => Con\n",
            "Cheap!, Color Screen, Battery Life, polyphonic ring tones\n",
            " => Pro\n",
            "16MB memory stick is a little bit small \n",
            " => Con\n",
            "Small, lightweight\n",
            " => Pro\n",
            "Nokia 8310\n",
            " => Pro\n",
            "Cheap, some useful features, phone wraps, good sound quality\n",
            " => Pro\n",
            "Intended functionality.\n",
            " => Pro\n",
            "2.1 mega pixel\n",
            " => Con\n"
          ]
        }
      ],
      "source": [
        "for index in random.sample(range(len(predict_text)), 8):\n",
        "    print(predict_text[index])\n",
        "    print(f\" => {classifications[index]}\")"
      ]
    },
    {
      "cell_type": "markdown",
      "metadata": {},
      "source": [
        "### Against Ambiguous Text"
      ]
    },
    {
      "cell_type": "code",
      "execution_count": 477,
      "metadata": {},
      "outputs": [
        {
          "name": "stdout",
          "output_type": "stream",
          "text": [
            "12/12 [==============================] - 1s 8ms/step\n",
            "\"Not great, but if you are working on a budget, you can do worse\" |= PRO\n",
            " => Pro\n",
            "\"Absolutely the worst!\" |= CON\n",
            " => Pro\n",
            "\"Broken upon arrival\" |= CON\n",
            " => Pro\n",
            "\"I want to love this, but I can't really recommend\" |= CON\n",
            " => Pro\n",
            "\"Crap product, terrible design, cheap\" |= CON\n",
            " => Con\n",
            "\"Pickup when on sale, not worth full price\" |= CON\n",
            " => Con\n",
            "\"Great for amateurs\" |= PRO\n",
            " => Pro\n",
            "\"Recommend only to professionals\" |= CON\n",
            " => Pro\n",
            "\"fantastic for dumpsters\" |= CON\n",
            " => Pro\n",
            "\"Recommend if you have no idea what you are doing\" =| PRO\n",
            " => Pro\n",
            "\"goes right in the dumpster\" |= CON\n",
            " => Con\n",
            "\"best to avoid this\" |= CON\n",
            " => Pro\n"
          ]
        }
      ],
      "source": [
        "user_text = [\n",
        "    \"\\\"Not great, but if you are working on a budget, you can do worse\\\" |= PRO\",\n",
        "    \"\\\"Absolutely the worst!\\\" |= CON\",\n",
        "    \"\\\"Broken upon arrival\\\" |= CON\",\n",
        "    \"\\\"I want to love this, but I can't really recommend\\\" |= CON\",\n",
        "    \"\\\"Crap product, terrible design, cheap\\\" |= CON\",\n",
        "    \"\\\"Pickup when on sale, not worth full price\\\" |= CON\",\n",
        "    \"\\\"Great for amateurs\\\" |= PRO\",\n",
        "    \"\\\"Recommend only to professionals\\\" |= CON\",\n",
        "    \"\\\"fantastic for dumpsters\\\" |= CON\",\n",
        "    \"\\\"Recommend if you have no idea what you are doing\\\" =| PRO\",\n",
        "    \"\\\"goes right in the dumpster\\\" |= CON\",\n",
        "    \"\\\"best to avoid this\\\" |= CON\",\n",
        "    # \"\\\"replace\\\"\",\n",
        "]\n",
        "\n",
        "user_sequences = tokenizer.texts_to_sequences(user_text)\n",
        "user_padded = tfpp.sequence.pad_sequences(user_sequences, maxlen=sequence_length)\n",
        "\n",
        "user_predictions = model.predict(user_padded, batch_size=1, verbose=1)\n",
        "\n",
        "user_classifications = []\n",
        "for value in predictions:\n",
        "    if (value > 0.5): user_classifications.append(\"Pro\")\n",
        "    else: user_classifications.append(\"Con\")\n",
        "user_classifications = numpy.asarray(classifications)\n",
        "\n",
        "for index in range(len(user_text)):\n",
        "    print(user_text[index])\n",
        "    print(f\" => {user_classifications[index]}\")"
      ]
    }
  ],
  "metadata": {
    "colab": {
      "collapsed_sections": [
        "rsPWakpbkXBn",
        "bh36uIRSkapY",
        "URj_ywt5kdsQ",
        "fNAERD45tC1m"
      ],
      "name": "pros_cons.ipynb",
      "provenance": []
    },
    "kernelspec": {
      "display_name": "Python 3",
      "name": "python3"
    },
    "language_info": {
      "codemirror_mode": {
        "name": "ipython",
        "version": 3
      },
      "file_extension": ".py",
      "mimetype": "text/x-python",
      "name": "python",
      "nbconvert_exporter": "python",
      "pygments_lexer": "ipython3",
      "version": "3.9.9"
    }
  },
  "nbformat": 4,
  "nbformat_minor": 0
}
